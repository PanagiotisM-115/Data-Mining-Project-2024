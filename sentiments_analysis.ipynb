{
  "nbformat": 4,
  "nbformat_minor": 0,
  "metadata": {
    "colab": {
      "provenance": [],
      "toc_visible": true
    },
    "kernelspec": {
      "name": "python3",
      "display_name": "Python 3"
    },
    "language_info": {
      "name": "python"
    }
  },
  "cells": [
    {
      "cell_type": "code",
      "source": [
        "!pip install transformers"
      ],
      "metadata": {
        "colab": {
          "base_uri": "https://localhost:8080/"
        },
        "id": "3p3ycV5EFa_C",
        "outputId": "fbc89b70-0611-4b0b-979b-b356313ff1f7",
        "collapsed": true
      },
      "execution_count": null,
      "outputs": [
        {
          "output_type": "stream",
          "name": "stdout",
          "text": [
            "Requirement already satisfied: transformers in /usr/local/lib/python3.10/dist-packages (4.41.2)\n",
            "Requirement already satisfied: filelock in /usr/local/lib/python3.10/dist-packages (from transformers) (3.14.0)\n",
            "Requirement already satisfied: huggingface-hub<1.0,>=0.23.0 in /usr/local/lib/python3.10/dist-packages (from transformers) (0.23.3)\n",
            "Requirement already satisfied: numpy>=1.17 in /usr/local/lib/python3.10/dist-packages (from transformers) (1.25.2)\n",
            "Requirement already satisfied: packaging>=20.0 in /usr/local/lib/python3.10/dist-packages (from transformers) (24.1)\n",
            "Requirement already satisfied: pyyaml>=5.1 in /usr/local/lib/python3.10/dist-packages (from transformers) (6.0.1)\n",
            "Requirement already satisfied: regex!=2019.12.17 in /usr/local/lib/python3.10/dist-packages (from transformers) (2024.5.15)\n",
            "Requirement already satisfied: requests in /usr/local/lib/python3.10/dist-packages (from transformers) (2.31.0)\n",
            "Requirement already satisfied: tokenizers<0.20,>=0.19 in /usr/local/lib/python3.10/dist-packages (from transformers) (0.19.1)\n",
            "Requirement already satisfied: safetensors>=0.4.1 in /usr/local/lib/python3.10/dist-packages (from transformers) (0.4.3)\n",
            "Requirement already satisfied: tqdm>=4.27 in /usr/local/lib/python3.10/dist-packages (from transformers) (4.66.4)\n",
            "Requirement already satisfied: fsspec>=2023.5.0 in /usr/local/lib/python3.10/dist-packages (from huggingface-hub<1.0,>=0.23.0->transformers) (2023.6.0)\n",
            "Requirement already satisfied: typing-extensions>=3.7.4.3 in /usr/local/lib/python3.10/dist-packages (from huggingface-hub<1.0,>=0.23.0->transformers) (4.12.2)\n",
            "Requirement already satisfied: charset-normalizer<4,>=2 in /usr/local/lib/python3.10/dist-packages (from requests->transformers) (3.3.2)\n",
            "Requirement already satisfied: idna<4,>=2.5 in /usr/local/lib/python3.10/dist-packages (from requests->transformers) (3.7)\n",
            "Requirement already satisfied: urllib3<3,>=1.21.1 in /usr/local/lib/python3.10/dist-packages (from requests->transformers) (2.0.7)\n",
            "Requirement already satisfied: certifi>=2017.4.17 in /usr/local/lib/python3.10/dist-packages (from requests->transformers) (2024.6.2)\n"
          ]
        }
      ]
    },
    {
      "cell_type": "code",
      "source": [
        "from google.colab import drive\n",
        "drive.mount('/content/gdrive')"
      ],
      "metadata": {
        "colab": {
          "base_uri": "https://localhost:8080/"
        },
        "id": "cgvUUYW4Fl-E",
        "outputId": "048ba819-89c5-45af-f480-9ed3d58a2fc2"
      },
      "execution_count": null,
      "outputs": [
        {
          "output_type": "stream",
          "name": "stdout",
          "text": [
            "Drive already mounted at /content/gdrive; to attempt to forcibly remount, call drive.mount(\"/content/gdrive\", force_remount=True).\n"
          ]
        }
      ]
    },
    {
      "cell_type": "code",
      "source": [
        "import nltk\n",
        "nltk.download('stopwords')\n",
        "from nltk.corpus import stopwords"
      ],
      "metadata": {
        "colab": {
          "base_uri": "https://localhost:8080/"
        },
        "id": "p3v7AO5YQv6Q",
        "outputId": "cccd4992-d957-40ca-f6e8-1d07ca8f79c0"
      },
      "execution_count": null,
      "outputs": [
        {
          "output_type": "stream",
          "name": "stderr",
          "text": [
            "[nltk_data] Downloading package stopwords to /root/nltk_data...\n",
            "[nltk_data]   Package stopwords is already up-to-date!\n"
          ]
        }
      ]
    },
    {
      "cell_type": "code",
      "execution_count": null,
      "metadata": {
        "id": "aRADsVpwBvlT"
      },
      "outputs": [],
      "source": [
        "import pandas as pd\n",
        "import transformers\n",
        "from transformers import pipeline"
      ]
    },
    {
      "cell_type": "code",
      "source": [
        "udf = pd.read_csv('../content/gdrive/My Drive/data/2023/sentiment.csv')\n",
        "udf = udf.dropna(subset=['comments'])"
      ],
      "metadata": {
        "id": "_z_zTQTGN-yd"
      },
      "execution_count": null,
      "outputs": []
    },
    {
      "cell_type": "code",
      "source": [
        "positive_samples = udf[udf['sentiment'] == 'positive'] #Filtering samples\n",
        "negative_samples = udf[udf['sentiment'] == 'negative']\n",
        "\n",
        "positive_sampled = positive_samples.sample(n=4100, random_state=56) #Keep only a certain amount of positives\n",
        "\n",
        "df = pd.concat([positive_sampled, negative_samples]) #Make a dataframe with the selected positives and negatives\n",
        "\n",
        "df = df.sample(frac=1, random_state=42).reset_index(drop=True) #Mix the positions so that not all negatives are at the bottom"
      ],
      "metadata": {
        "id": "i_xoAwFtGqkx"
      },
      "execution_count": null,
      "outputs": []
    },
    {
      "cell_type": "code",
      "source": [
        "df['sentiment'].value_counts() #~70-30 positive/negative distribution"
      ],
      "metadata": {
        "colab": {
          "base_uri": "https://localhost:8080/"
        },
        "id": "JhZSV9ULGspl",
        "outputId": "bb652d7a-7077-4606-e54d-f36a726156c3"
      },
      "execution_count": null,
      "outputs": [
        {
          "output_type": "execute_result",
          "data": {
            "text/plain": [
              "sentiment\n",
              "positive    4100\n",
              "negative    1267\n",
              "Name: count, dtype: int64"
            ]
          },
          "metadata": {},
          "execution_count": 81
        }
      ]
    },
    {
      "cell_type": "code",
      "source": [
        "dfc = pd.read_csv('../content/gdrive/My Drive/data/2023/june/reviews.csv')"
      ],
      "metadata": {
        "id": "LGYZ_4d5NIXr"
      },
      "execution_count": null,
      "outputs": []
    },
    {
      "cell_type": "code",
      "source": [
        "dfc = pd.read_csv('../content/gdrive/My Drive/data/2023/march/reviews.csv')"
      ],
      "metadata": {
        "id": "mhW-mWqbx_75"
      },
      "execution_count": null,
      "outputs": []
    },
    {
      "cell_type": "code",
      "source": [
        "dfc = pd.read_csv('../content/gdrive/My Drive/data/2023/september/reviews.csv')"
      ],
      "metadata": {
        "id": "qQAOySfNyAW8"
      },
      "execution_count": null,
      "outputs": []
    },
    {
      "cell_type": "code",
      "source": [
        "#@title Clean data\n",
        "import re\n",
        "\n",
        "def remove_non_english(text):   #Removing non english chars\n",
        "    if isinstance(text, str):\n",
        "        return re.sub(r'[^a-zA-Z\\s]', '', text)\n",
        "    return text\n",
        "\n",
        "dfc['comments'] = dfc['comments'].apply(remove_non_english)\n",
        "\n",
        "dfc = dfc.dropna(subset=['comments'])   #Remove empty rows\n",
        "dfc = dfc[dfc['comments'].str.strip() != '']"
      ],
      "metadata": {
        "id": "xZ_NrXuFOluF"
      },
      "execution_count": null,
      "outputs": []
    },
    {
      "cell_type": "code",
      "source": [
        "dfc['comments'] = dfc['comments'].astype(str).dropna()"
      ],
      "metadata": {
        "id": "zMuSkl3G_AzX"
      },
      "execution_count": null,
      "outputs": []
    },
    {
      "cell_type": "code",
      "source": [
        "dfc['comments'] = dfc['comments'].str.lower() #Make everything lowercase"
      ],
      "metadata": {
        "id": "7-df6WAw_qd9"
      },
      "execution_count": null,
      "outputs": []
    },
    {
      "cell_type": "code",
      "source": [
        "stop = stopwords.words('english')\n",
        "def remove_stopwords(text):   #Remove all english stopwords\n",
        "    return ' '.join([word for word in text.split() if word.lower() not in stop])\n",
        "\n",
        "dfc['comments'] = dfc['comments'].apply(remove_stopwords)"
      ],
      "metadata": {
        "id": "OXiUEDAX-a2C"
      },
      "execution_count": null,
      "outputs": []
    },
    {
      "cell_type": "code",
      "source": [
        "#@title Use pre-trained model to get sentiment for out dataset\n",
        "from transformers import AutoTokenizer, AutoModelForSequenceClassification\n",
        "\n",
        "distilled_student_sentiment_classifier = pipeline(    #classifier\n",
        "    model=\"lxyuan/distilbert-base-multilingual-cased-sentiments-student\"\n",
        ")\n",
        "\n",
        "tokenizer = AutoTokenizer.from_pretrained(\"lxyuan/distilbert-base-multilingual-cased-sentiments-student\")\n",
        "model = AutoModelForSequenceClassification.from_pretrained(\"lxyuan/distilbert-base-multilingual-cased-sentiments-student\")\n",
        "\n",
        "sentiment_analysis = pipeline(\"sentiment-analysis\",model=model, tokenizer = tokenizer, max_length = 512, truncation = True) #sentiment analysis pipeline\n",
        "\n",
        "def get_sentiment(text):  #Function to get sentiment\n",
        "    result = sentiment_analysis(text)\n",
        "    return result[0]['label']\n",
        "\n",
        "\n",
        "sampled_dfc = dfc.sample(n=1000, random_state=44)  #Sample n random dataframe entries\n",
        "\n",
        "sampled_dfc['sentiment'] = sampled_dfc['comments'].apply(get_sentiment) #Get the sentiment for those entries"
      ],
      "metadata": {
        "id": "uheU6kpMmk5X"
      },
      "execution_count": null,
      "outputs": []
    },
    {
      "cell_type": "code",
      "source": [
        "sampled_dfc.to_csv('../content/gdrive/My Drive/data/2023/sentiment3.csv')"
      ],
      "metadata": {
        "id": "-9SEZhE9QOoO"
      },
      "execution_count": null,
      "outputs": []
    },
    {
      "cell_type": "code",
      "source": [
        "df_count = sampled_dfc['sentiment'].value_counts().to_frame() #count all values and place them in dataframe df_count\n",
        "df_count"
      ],
      "metadata": {
        "colab": {
          "base_uri": "https://localhost:8080/",
          "height": 175
        },
        "id": "QG73mPrf91wl",
        "outputId": "676c0c3c-4e09-4d75-93ac-ef6015e9f5df"
      },
      "execution_count": null,
      "outputs": [
        {
          "output_type": "execute_result",
          "data": {
            "text/plain": [
              "           count\n",
              "sentiment       \n",
              "positive     934\n",
              "negative      64\n",
              "neutral        2"
            ],
            "text/html": [
              "\n",
              "  <div id=\"df-49dab75d-4db5-4d17-a262-ca99def07d4c\" class=\"colab-df-container\">\n",
              "    <div>\n",
              "<style scoped>\n",
              "    .dataframe tbody tr th:only-of-type {\n",
              "        vertical-align: middle;\n",
              "    }\n",
              "\n",
              "    .dataframe tbody tr th {\n",
              "        vertical-align: top;\n",
              "    }\n",
              "\n",
              "    .dataframe thead th {\n",
              "        text-align: right;\n",
              "    }\n",
              "</style>\n",
              "<table border=\"1\" class=\"dataframe\">\n",
              "  <thead>\n",
              "    <tr style=\"text-align: right;\">\n",
              "      <th></th>\n",
              "      <th>count</th>\n",
              "    </tr>\n",
              "    <tr>\n",
              "      <th>sentiment</th>\n",
              "      <th></th>\n",
              "    </tr>\n",
              "  </thead>\n",
              "  <tbody>\n",
              "    <tr>\n",
              "      <th>positive</th>\n",
              "      <td>934</td>\n",
              "    </tr>\n",
              "    <tr>\n",
              "      <th>negative</th>\n",
              "      <td>64</td>\n",
              "    </tr>\n",
              "    <tr>\n",
              "      <th>neutral</th>\n",
              "      <td>2</td>\n",
              "    </tr>\n",
              "  </tbody>\n",
              "</table>\n",
              "</div>\n",
              "    <div class=\"colab-df-buttons\">\n",
              "\n",
              "  <div class=\"colab-df-container\">\n",
              "    <button class=\"colab-df-convert\" onclick=\"convertToInteractive('df-49dab75d-4db5-4d17-a262-ca99def07d4c')\"\n",
              "            title=\"Convert this dataframe to an interactive table.\"\n",
              "            style=\"display:none;\">\n",
              "\n",
              "  <svg xmlns=\"http://www.w3.org/2000/svg\" height=\"24px\" viewBox=\"0 -960 960 960\">\n",
              "    <path d=\"M120-120v-720h720v720H120Zm60-500h600v-160H180v160Zm220 220h160v-160H400v160Zm0 220h160v-160H400v160ZM180-400h160v-160H180v160Zm440 0h160v-160H620v160ZM180-180h160v-160H180v160Zm440 0h160v-160H620v160Z\"/>\n",
              "  </svg>\n",
              "    </button>\n",
              "\n",
              "  <style>\n",
              "    .colab-df-container {\n",
              "      display:flex;\n",
              "      gap: 12px;\n",
              "    }\n",
              "\n",
              "    .colab-df-convert {\n",
              "      background-color: #E8F0FE;\n",
              "      border: none;\n",
              "      border-radius: 50%;\n",
              "      cursor: pointer;\n",
              "      display: none;\n",
              "      fill: #1967D2;\n",
              "      height: 32px;\n",
              "      padding: 0 0 0 0;\n",
              "      width: 32px;\n",
              "    }\n",
              "\n",
              "    .colab-df-convert:hover {\n",
              "      background-color: #E2EBFA;\n",
              "      box-shadow: 0px 1px 2px rgba(60, 64, 67, 0.3), 0px 1px 3px 1px rgba(60, 64, 67, 0.15);\n",
              "      fill: #174EA6;\n",
              "    }\n",
              "\n",
              "    .colab-df-buttons div {\n",
              "      margin-bottom: 4px;\n",
              "    }\n",
              "\n",
              "    [theme=dark] .colab-df-convert {\n",
              "      background-color: #3B4455;\n",
              "      fill: #D2E3FC;\n",
              "    }\n",
              "\n",
              "    [theme=dark] .colab-df-convert:hover {\n",
              "      background-color: #434B5C;\n",
              "      box-shadow: 0px 1px 3px 1px rgba(0, 0, 0, 0.15);\n",
              "      filter: drop-shadow(0px 1px 2px rgba(0, 0, 0, 0.3));\n",
              "      fill: #FFFFFF;\n",
              "    }\n",
              "  </style>\n",
              "\n",
              "    <script>\n",
              "      const buttonEl =\n",
              "        document.querySelector('#df-49dab75d-4db5-4d17-a262-ca99def07d4c button.colab-df-convert');\n",
              "      buttonEl.style.display =\n",
              "        google.colab.kernel.accessAllowed ? 'block' : 'none';\n",
              "\n",
              "      async function convertToInteractive(key) {\n",
              "        const element = document.querySelector('#df-49dab75d-4db5-4d17-a262-ca99def07d4c');\n",
              "        const dataTable =\n",
              "          await google.colab.kernel.invokeFunction('convertToInteractive',\n",
              "                                                    [key], {});\n",
              "        if (!dataTable) return;\n",
              "\n",
              "        const docLinkHtml = 'Like what you see? Visit the ' +\n",
              "          '<a target=\"_blank\" href=https://colab.research.google.com/notebooks/data_table.ipynb>data table notebook</a>'\n",
              "          + ' to learn more about interactive tables.';\n",
              "        element.innerHTML = '';\n",
              "        dataTable['output_type'] = 'display_data';\n",
              "        await google.colab.output.renderOutput(dataTable, element);\n",
              "        const docLink = document.createElement('div');\n",
              "        docLink.innerHTML = docLinkHtml;\n",
              "        element.appendChild(docLink);\n",
              "      }\n",
              "    </script>\n",
              "  </div>\n",
              "\n",
              "\n",
              "<div id=\"df-0200c8f2-57b4-4314-9695-8820f8dea254\">\n",
              "  <button class=\"colab-df-quickchart\" onclick=\"quickchart('df-0200c8f2-57b4-4314-9695-8820f8dea254')\"\n",
              "            title=\"Suggest charts\"\n",
              "            style=\"display:none;\">\n",
              "\n",
              "<svg xmlns=\"http://www.w3.org/2000/svg\" height=\"24px\"viewBox=\"0 0 24 24\"\n",
              "     width=\"24px\">\n",
              "    <g>\n",
              "        <path d=\"M19 3H5c-1.1 0-2 .9-2 2v14c0 1.1.9 2 2 2h14c1.1 0 2-.9 2-2V5c0-1.1-.9-2-2-2zM9 17H7v-7h2v7zm4 0h-2V7h2v10zm4 0h-2v-4h2v4z\"/>\n",
              "    </g>\n",
              "</svg>\n",
              "  </button>\n",
              "\n",
              "<style>\n",
              "  .colab-df-quickchart {\n",
              "      --bg-color: #E8F0FE;\n",
              "      --fill-color: #1967D2;\n",
              "      --hover-bg-color: #E2EBFA;\n",
              "      --hover-fill-color: #174EA6;\n",
              "      --disabled-fill-color: #AAA;\n",
              "      --disabled-bg-color: #DDD;\n",
              "  }\n",
              "\n",
              "  [theme=dark] .colab-df-quickchart {\n",
              "      --bg-color: #3B4455;\n",
              "      --fill-color: #D2E3FC;\n",
              "      --hover-bg-color: #434B5C;\n",
              "      --hover-fill-color: #FFFFFF;\n",
              "      --disabled-bg-color: #3B4455;\n",
              "      --disabled-fill-color: #666;\n",
              "  }\n",
              "\n",
              "  .colab-df-quickchart {\n",
              "    background-color: var(--bg-color);\n",
              "    border: none;\n",
              "    border-radius: 50%;\n",
              "    cursor: pointer;\n",
              "    display: none;\n",
              "    fill: var(--fill-color);\n",
              "    height: 32px;\n",
              "    padding: 0;\n",
              "    width: 32px;\n",
              "  }\n",
              "\n",
              "  .colab-df-quickchart:hover {\n",
              "    background-color: var(--hover-bg-color);\n",
              "    box-shadow: 0 1px 2px rgba(60, 64, 67, 0.3), 0 1px 3px 1px rgba(60, 64, 67, 0.15);\n",
              "    fill: var(--button-hover-fill-color);\n",
              "  }\n",
              "\n",
              "  .colab-df-quickchart-complete:disabled,\n",
              "  .colab-df-quickchart-complete:disabled:hover {\n",
              "    background-color: var(--disabled-bg-color);\n",
              "    fill: var(--disabled-fill-color);\n",
              "    box-shadow: none;\n",
              "  }\n",
              "\n",
              "  .colab-df-spinner {\n",
              "    border: 2px solid var(--fill-color);\n",
              "    border-color: transparent;\n",
              "    border-bottom-color: var(--fill-color);\n",
              "    animation:\n",
              "      spin 1s steps(1) infinite;\n",
              "  }\n",
              "\n",
              "  @keyframes spin {\n",
              "    0% {\n",
              "      border-color: transparent;\n",
              "      border-bottom-color: var(--fill-color);\n",
              "      border-left-color: var(--fill-color);\n",
              "    }\n",
              "    20% {\n",
              "      border-color: transparent;\n",
              "      border-left-color: var(--fill-color);\n",
              "      border-top-color: var(--fill-color);\n",
              "    }\n",
              "    30% {\n",
              "      border-color: transparent;\n",
              "      border-left-color: var(--fill-color);\n",
              "      border-top-color: var(--fill-color);\n",
              "      border-right-color: var(--fill-color);\n",
              "    }\n",
              "    40% {\n",
              "      border-color: transparent;\n",
              "      border-right-color: var(--fill-color);\n",
              "      border-top-color: var(--fill-color);\n",
              "    }\n",
              "    60% {\n",
              "      border-color: transparent;\n",
              "      border-right-color: var(--fill-color);\n",
              "    }\n",
              "    80% {\n",
              "      border-color: transparent;\n",
              "      border-right-color: var(--fill-color);\n",
              "      border-bottom-color: var(--fill-color);\n",
              "    }\n",
              "    90% {\n",
              "      border-color: transparent;\n",
              "      border-bottom-color: var(--fill-color);\n",
              "    }\n",
              "  }\n",
              "</style>\n",
              "\n",
              "  <script>\n",
              "    async function quickchart(key) {\n",
              "      const quickchartButtonEl =\n",
              "        document.querySelector('#' + key + ' button');\n",
              "      quickchartButtonEl.disabled = true;  // To prevent multiple clicks.\n",
              "      quickchartButtonEl.classList.add('colab-df-spinner');\n",
              "      try {\n",
              "        const charts = await google.colab.kernel.invokeFunction(\n",
              "            'suggestCharts', [key], {});\n",
              "      } catch (error) {\n",
              "        console.error('Error during call to suggestCharts:', error);\n",
              "      }\n",
              "      quickchartButtonEl.classList.remove('colab-df-spinner');\n",
              "      quickchartButtonEl.classList.add('colab-df-quickchart-complete');\n",
              "    }\n",
              "    (() => {\n",
              "      let quickchartButtonEl =\n",
              "        document.querySelector('#df-0200c8f2-57b4-4314-9695-8820f8dea254 button');\n",
              "      quickchartButtonEl.style.display =\n",
              "        google.colab.kernel.accessAllowed ? 'block' : 'none';\n",
              "    })();\n",
              "  </script>\n",
              "</div>\n",
              "    </div>\n",
              "  </div>\n"
            ],
            "application/vnd.google.colaboratory.intrinsic+json": {
              "type": "dataframe",
              "variable_name": "df_count",
              "summary": "{\n  \"name\": \"df_count\",\n  \"rows\": 3,\n  \"fields\": [\n    {\n      \"column\": \"sentiment\",\n      \"properties\": {\n        \"dtype\": \"string\",\n        \"num_unique_values\": 3,\n        \"samples\": [\n          \"positive\",\n          \"negative\",\n          \"neutral\"\n        ],\n        \"semantic_type\": \"\",\n        \"description\": \"\"\n      }\n    },\n    {\n      \"column\": \"count\",\n      \"properties\": {\n        \"dtype\": \"number\",\n        \"std\": 521,\n        \"min\": 2,\n        \"max\": 934,\n        \"num_unique_values\": 3,\n        \"samples\": [\n          934,\n          64,\n          2\n        ],\n        \"semantic_type\": \"\",\n        \"description\": \"\"\n      }\n    }\n  ]\n}"
            }
          },
          "metadata": {},
          "execution_count": 117
        }
      ]
    },
    {
      "cell_type": "code",
      "source": [
        "#@title Review sentiment based as time passes\n",
        "\n",
        "import matplotlib.pyplot as plt\n",
        "df1 = pd.read_csv('../content/gdrive/My Drive/data/2023/sentiment3.csv')\n",
        "df2 = pd.read_csv('../content/gdrive/My Drive/data/2023/sentiment.csv')\n",
        "df3 = pd.read_csv('../content/gdrive/My Drive/data/2023/sentiment2.csv')\n",
        "df2_sampled = df2.sample(n=1000, random_state=44)\n",
        "\n",
        "df1_count = df1['sentiment'].value_counts().to_frame()\n",
        "df2_sampled_count = df2_sampled['sentiment'].value_counts().to_frame()\n",
        "df3_count = df3['sentiment'].value_counts().to_frame()\n",
        "\n",
        "df1_count['count'].plot(kind='bar', title='March review counts')\n",
        "\n"
      ],
      "metadata": {
        "colab": {
          "base_uri": "https://localhost:8080/",
          "height": 537
        },
        "id": "fh_CcSCb0sWs",
        "outputId": "5e546a40-3f5c-4d5a-c494-3d59a18c9532"
      },
      "execution_count": null,
      "outputs": [
        {
          "output_type": "execute_result",
          "data": {
            "text/plain": [
              "<Axes: title={'center': 'March review counts'}, xlabel='sentiment'>"
            ]
          },
          "metadata": {},
          "execution_count": 127
        },
        {
          "output_type": "display_data",
          "data": {
            "text/plain": [
              "<Figure size 640x480 with 1 Axes>"
            ],
            "image/png": "[encoded data removed]"
          },
          "metadata": {}
        }
      ]
    },
    {
      "cell_type": "code",
      "source": [
        "df2_sampled_count['count'].plot(kind='bar', title='June review counts')"
      ],
      "metadata": {
        "colab": {
          "base_uri": "https://localhost:8080/",
          "height": 537
        },
        "id": "O-Jh1ndb2L7u",
        "outputId": "40ca5d38-60b8-4d78-ca02-92ebc2857870"
      },
      "execution_count": null,
      "outputs": [
        {
          "output_type": "execute_result",
          "data": {
            "text/plain": [
              "<Axes: title={'center': 'June review counts'}, xlabel='sentiment'>"
            ]
          },
          "metadata": {},
          "execution_count": 128
        },
        {
          "output_type": "display_data",
          "data": {
            "text/plain": [
              "<Figure size 640x480 with 1 Axes>"
            ],
            "image/png": "[encoded data removed]"
          },
          "metadata": {}
        }
      ]
    },
    {
      "cell_type": "code",
      "source": [
        "df3_count['count'].plot(kind='bar', title='September review counts')"
      ],
      "metadata": {
        "colab": {
          "base_uri": "https://localhost:8080/",
          "height": 537
        },
        "id": "zqdoYk212OvY",
        "outputId": "51780687-d77c-4797-b509-d306d272c8b6"
      },
      "execution_count": null,
      "outputs": [
        {
          "output_type": "execute_result",
          "data": {
            "text/plain": [
              "<Axes: title={'center': 'September review counts'}, xlabel='sentiment'>"
            ]
          },
          "metadata": {},
          "execution_count": 129
        },
        {
          "output_type": "display_data",
          "data": {
            "text/plain": [
              "<Figure size 640x480 with 1 Axes>"
            ],
            "image/png": "[encoded data removed]"
          },
          "metadata": {}
        }
      ]
    },
    {
      "cell_type": "code",
      "source": [
        "#@title Libraries\n",
        "from sklearn.feature_extraction.text import TfidfVectorizer\n",
        "from sklearn.svm import SVC\n",
        "from sklearn.metrics import classification_report, accuracy_score\n",
        "import pickle\n",
        "from sklearn.model_selection import cross_val_score\n",
        "from gensim.models import Word2Vec\n",
        "import numpy as np\n",
        "from sklearn.model_selection import train_test_split, KFold, cross_val_predict\n",
        "from sklearn.ensemble import RandomForestClassifier\n",
        "from sklearn.neighbors import KNeighborsClassifier"
      ],
      "metadata": {
        "id": "4xEfm7ySxWZ9"
      },
      "execution_count": null,
      "outputs": []
    },
    {
      "cell_type": "code",
      "source": [
        "# @title TF-IDF Features\n",
        "\n",
        "path = '../content/gdrive/My Drive/data/2023/tfidf_features.pkl'\n",
        "\n",
        "vectorizer = TfidfVectorizer(max_features=500)  #TF-IDF vectorizer\n",
        "X = vectorizer.fit_transform(df['comments'])  #Vectorization of the data\n",
        "y = df['sentiment']\n",
        "\n",
        "with open('tfidf_features.pkl', 'wb') as f:   #Save the features in a *.pkl file\n",
        "    pickle.dump((X, y), f)"
      ],
      "metadata": {
        "id": "4VLPVFLqR_Rg"
      },
      "execution_count": null,
      "outputs": []
    },
    {
      "cell_type": "code",
      "source": [
        "# @title Word Embedding features\n",
        "tokenized_comments = df['comments'].apply(lambda x: x.split()) #Tokenizing the reviews column\n",
        "\n",
        "w2v_model = Word2Vec(sentences=tokenized_comments, vector_size=100, window=5, min_count=1, workers=4) #w2v model training\n",
        "\n",
        "def average_word_vectors(words, model, vocabulary, num_features): #Function for calculating the average vector of all the words in a sentence\n",
        "    feature_vector = np.zeros((num_features,), dtype=\"float64\")\n",
        "    nwords = 0.\n",
        "    for word in words:\n",
        "        if word in vocabulary:\n",
        "            nwords += 1.  #counts words\n",
        "            feature_vector = np.add(feature_vector, model.wv[word])\n",
        "    if nwords:\n",
        "        feature_vector = np.divide(feature_vector, nwords) #divides vectors by the word count to get average sentence vector\n",
        "    return feature_vector\n",
        "\n",
        "vocabulary = set(w2v_model.wv.index_to_key)\n",
        "\n",
        "X = np.array([average_word_vectors(comment, w2v_model, vocabulary, 100) for comment in tokenized_comments])  #Vectorize the tokenized comments\n",
        "y = df['sentiment']\n",
        "\n",
        "\n",
        "path = '../content/gdrive/My Drive/data/2023/word_emb_features.pkl'\n",
        "\n",
        "with open('word_emb_features.pkl', 'wb') as f:   #Save the word embedding features in a *.pkl file\n",
        "    pickle.dump((X, y), f)"
      ],
      "metadata": {
        "id": "X7wEtYHUMJXS"
      },
      "execution_count": null,
      "outputs": []
    },
    {
      "cell_type": "code",
      "source": [
        "#@title TF-IDF SVM\n",
        "#We are going to use TF-IDF features and an SVM classifier\n",
        "with open('tfidf_features.pkl', 'rb') as f:  #Load saved TF-IDF features\n",
        "    X, y = pickle.load(f)\n",
        "    X_train, X_test, y_train, y_test = train_test_split(X, y, test_size=0.2, random_state=33)  #Split into test and train data\n",
        "\n",
        "svm_model = SVC(kernel='linear') #load svm model\n",
        "\n",
        "cv_scores = cross_val_score(svm_model, X_train, y_train, cv=10, scoring='accuracy') #do 10-fold CV on training set\n",
        "y_train_pred_cv = cross_val_predict(svm_model, X_train, y_train, cv=10)\n",
        "\n",
        "svm_model.fit(X_train, y_train) #Train the model on the dataset\n",
        "\n",
        "y_test_pred = svm_model.predict(X_test) #Make predictions on the test set\n",
        "\n",
        "print(f'Classifier: SVM Model')\n",
        "print('10-Fold Cross-Validation:')\n",
        "print(f'Cross-Validation Accuracy on Training Set: {cv_scores.mean()}')\n",
        "print(classification_report(y_train, y_train_pred_cv))  #10-fold cv performance metrics\n",
        "print(f'Accuracy on Test Set: {accuracy_score(y_test, y_test_pred)}') #Prediction accuracy on the test set"
      ],
      "metadata": {
        "colab": {
          "base_uri": "https://localhost:8080/"
        },
        "id": "gTCjU9dfTCh0",
        "outputId": "29519998-3394-49e2-cb28-c5b36211b076"
      },
      "execution_count": null,
      "outputs": [
        {
          "output_type": "stream",
          "name": "stdout",
          "text": [
            "Classifier: SVM Model\n",
            "10-Fold Cross-Validation:\n",
            "Cross-Validation Accuracy on Training Set: 0.862800455358595\n",
            "              precision    recall  f1-score   support\n",
            "\n",
            "    negative       0.73      0.66      0.69      1013\n",
            "    positive       0.90      0.93      0.91      3280\n",
            "\n",
            "    accuracy                           0.86      4293\n",
            "   macro avg       0.82      0.79      0.80      4293\n",
            "weighted avg       0.86      0.86      0.86      4293\n",
            "\n",
            "Accuracy on Test Set: 0.87243947858473\n"
          ]
        }
      ]
    },
    {
      "cell_type": "code",
      "source": [
        "#@title Word Embedding SVM\n",
        "#Same as before except we use Word Embedding features this time\n",
        "with open('word_emb_features.pkl', 'rb') as f:  #Load saved word embedding features\n",
        "    X, y = pickle.load(f)\n",
        "    X_train, X_test, y_train, y_test = train_test_split(X, y, test_size=0.2, random_state=33)  #Split into test and train data\n",
        "\n",
        "svm_model = SVC(kernel='linear')\n",
        "\n",
        "cv_scores = cross_val_score(svm_model, X_train, y_train, cv=10, scoring='accuracy')\n",
        "y_train_pred_cv = cross_val_predict(svm_model, X_train, y_train, cv=10)\n",
        "\n",
        "svm_model.fit(X_train, y_train)\n",
        "\n",
        "y_test_pred = svm_model.predict(X_test)\n",
        "\n",
        "print(f'Classifier: SVM Model')\n",
        "print('10-Fold Cross-Validation:')\n",
        "print(f'Cross-Validation Accuracy on Training Set: {cv_scores.mean()}')\n",
        "print(classification_report(y_train, y_train_pred_cv, zero_division = 0))\n",
        "print(f'Accuracy on Test Set: {accuracy_score(y_test, y_test_pred)}')"
      ],
      "metadata": {
        "colab": {
          "base_uri": "https://localhost:8080/"
        },
        "id": "nDF5U667U9wK",
        "outputId": "af594043-799b-4125-8e5c-b0c930026850"
      },
      "execution_count": null,
      "outputs": [
        {
          "output_type": "stream",
          "name": "stdout",
          "text": [
            "Classifier: SVM Model\n",
            "10-Fold Cross-Validation:\n",
            "Cross-Validation Accuracy on Training Set: 0.8162102238846426\n",
            "              precision    recall  f1-score   support\n",
            "\n",
            "    negative       0.59      0.69      0.64      1013\n",
            "    positive       0.90      0.85      0.88      3280\n",
            "\n",
            "    accuracy                           0.82      4293\n",
            "   macro avg       0.75      0.77      0.76      4293\n",
            "weighted avg       0.83      0.82      0.82      4293\n",
            "\n",
            "Accuracy on Test Set: 0.8426443202979516\n"
          ]
        }
      ]
    },
    {
      "cell_type": "code",
      "source": [
        "#@title TF-IDF Random Forest Classifier\n",
        "#This time we use TF-IDF but instead of SVM we use a Random Forest Classifier\n",
        "with open('tfidf_features.pkl', 'rb') as f:  #Load saved TF-IDF features\n",
        "    X, y = pickle.load(f)\n",
        "    X_train, X_test, y_train, y_test = train_test_split(X, y, test_size=0.2, random_state=33)  #Split into test and train data\n",
        "\n",
        "random_forest = RandomForestClassifier()\n",
        "\n",
        "cv_scores = cross_val_score(random_forest, X_train, y_train, cv=10, scoring='accuracy')\n",
        "y_train_pred_cv = cross_val_predict(random_forest, X_train, y_train, cv=10)\n",
        "\n",
        "random_forest.fit(X_train, y_train)\n",
        "\n",
        "y_test_pred = random_forest.predict(X_test)\n",
        "\n",
        "print(f'Classifier: Random Forest Model')\n",
        "print('10-Fold Cross-Validation:')\n",
        "print(f'Cross-Validation Accuracy on Training Set: {cv_scores.mean()}')\n",
        "print(classification_report(y_train, y_train_pred_cv))\n",
        "print(f'Accuracy on Test Set: {accuracy_score(y_test, y_test_pred)}')"
      ],
      "metadata": {
        "colab": {
          "base_uri": "https://localhost:8080/"
        },
        "id": "ojbp6DgfXZbn",
        "outputId": "812ccbd0-77a5-40c7-9b2e-cef6320eeadd"
      },
      "execution_count": null,
      "outputs": [
        {
          "output_type": "stream",
          "name": "stdout",
          "text": [
            "Classifier: Random Forest Model\n",
            "10-Fold Cross-Validation:\n",
            "Cross-Validation Accuracy on Training Set: 0.8490464574185503\n",
            "              precision    recall  f1-score   support\n",
            "\n",
            "    negative       0.71      0.63      0.67      1013\n",
            "    positive       0.89      0.92      0.91      3280\n",
            "\n",
            "    accuracy                           0.85      4293\n",
            "   macro avg       0.80      0.78      0.79      4293\n",
            "weighted avg       0.85      0.85      0.85      4293\n",
            "\n",
            "Accuracy on Test Set: 0.8752327746741154\n"
          ]
        }
      ]
    },
    {
      "cell_type": "code",
      "source": [
        "#@title Word Embedding Random Forest Classifier\n",
        "#Random forest classifier but with word embedding instead\n",
        "with open('word_emb_features.pkl', 'rb') as f:  #Load saved word embedding features\n",
        "    X, y = pickle.load(f)\n",
        "    X_train, X_test, y_train, y_test = train_test_split(X, y, test_size=0.2, random_state=33)  #Split into test and train data\n",
        "\n",
        "random_forest = RandomForestClassifier()\n",
        "\n",
        "cv_scores = cross_val_score(random_forest, X_train, y_train, cv=10, scoring='accuracy')\n",
        "y_train_pred_cv = cross_val_predict(random_forest, X_train, y_train, cv=10)\n",
        "\n",
        "random_forest.fit(X_train, y_train)\n",
        "\n",
        "y_test_pred = random_forest.predict(X_test)\n",
        "\n",
        "print(f'Classifier: Random Forest Model')\n",
        "print('10-Fold Cross-Validation:')\n",
        "print(f'Cross-Validation Accuracy on Training Set: {cv_scores.mean()}')\n",
        "print(classification_report(y_train, y_train_pred_cv))\n",
        "print(f'Accuracy on Test Set: {accuracy_score(y_test, y_test_pred)}')"
      ],
      "metadata": {
        "colab": {
          "base_uri": "https://localhost:8080/"
        },
        "id": "gzj_O6nnZHNX",
        "outputId": "3e3f17b6-a8d2-4b25-9c83-32ba503df194"
      },
      "execution_count": null,
      "outputs": [
        {
          "output_type": "stream",
          "name": "stdout",
          "text": [
            "Classifier: Random Forest Model\n",
            "10-Fold Cross-Validation:\n",
            "Cross-Validation Accuracy on Training Set: 0.8404423483493251\n",
            "              precision    recall  f1-score   support\n",
            "\n",
            "    negative       0.67      0.64      0.65      1013\n",
            "    positive       0.89      0.90      0.90      3280\n",
            "\n",
            "    accuracy                           0.84      4293\n",
            "   macro avg       0.78      0.77      0.77      4293\n",
            "weighted avg       0.84      0.84      0.84      4293\n",
            "\n",
            "Accuracy on Test Set: 0.8519553072625698\n"
          ]
        }
      ]
    },
    {
      "cell_type": "code",
      "source": [
        "#@title TF-IDF KNN\n",
        "#Use of KNN classifier and the TF-IDF features file\n",
        "with open('tfidf_features.pkl', 'rb') as f:  #Load saved features\n",
        "    X, y = pickle.load(f)\n",
        "    X_train, X_test, y_train, y_test = train_test_split(X, y, test_size=0.2, random_state=33)  #Split into test and train data\n",
        "\n",
        "KNN = KNeighborsClassifier(n_neighbors=2)\n",
        "\n",
        "cv_scores = cross_val_score(KNN, X_train, y_train, cv=10, scoring='accuracy')\n",
        "y_train_pred_cv = cross_val_predict(KNN, X_train, y_train, cv=10)\n",
        "\n",
        "KNN.fit(X_train, y_train)\n",
        "\n",
        "y_test_pred = KNN.predict(X_test)\n",
        "\n",
        "print(f'Classifier: KNN Model')\n",
        "print('10-Fold Cross-Validation:')\n",
        "print(f'Cross-Validation Accuracy on Training Set: {cv_scores.mean()}')\n",
        "print(classification_report(y_train, y_train_pred_cv))\n",
        "print(f'Accuracy on Test Set: {accuracy_score(y_test, y_test_pred)}')"
      ],
      "metadata": {
        "colab": {
          "base_uri": "https://localhost:8080/"
        },
        "id": "SX64mOQ0X8Wl",
        "outputId": "93fc4987-4ed3-4287-a387-cfb88ee11b33"
      },
      "execution_count": null,
      "outputs": [
        {
          "output_type": "stream",
          "name": "stdout",
          "text": [
            "Classifier: KNN Model\n",
            "10-Fold Cross-Validation:\n",
            "Cross-Validation Accuracy on Training Set: 0.41043096438445276\n",
            "              precision    recall  f1-score   support\n",
            "\n",
            "    negative       0.27      0.89      0.42      1013\n",
            "    positive       0.89      0.26      0.40      3280\n",
            "\n",
            "    accuracy                           0.41      4293\n",
            "   macro avg       0.58      0.58      0.41      4293\n",
            "weighted avg       0.74      0.41      0.41      4293\n",
            "\n",
            "Accuracy on Test Set: 0.41154562383612664\n"
          ]
        }
      ]
    },
    {
      "cell_type": "code",
      "source": [
        "#@title Word Embedding KNN\n",
        "#Use of the KNN classifier and the word embedding file instead\n",
        "with open('word_emb_features.pkl', 'rb') as f:  #Load saved features\n",
        "    X, y = pickle.load(f)\n",
        "    X_train, X_test, y_train, y_test = train_test_split(X, y, test_size=0.2, random_state=33)  #Split into test and train data\n",
        "\n",
        "KNN = KNeighborsClassifier(n_neighbors=2)\n",
        "\n",
        "cv_scores = cross_val_score(KNN, X_train, y_train, cv=10, scoring='accuracy')\n",
        "y_train_pred_cv = cross_val_predict(KNN, X_train, y_train, cv=10)\n",
        "\n",
        "KNN.fit(X_train, y_train)\n",
        "\n",
        "y_test_pred = KNN.predict(X_test)\n",
        "\n",
        "print(f'Classifier: KNN Model')\n",
        "print('10-Fold Cross-Validation:')\n",
        "print(f'Cross-Validation Accuracy on Training Set: {cv_scores.mean()}')\n",
        "print(classification_report(y_train, y_train_pred_cv))\n",
        "print(f'Accuracy on Test Set: {accuracy_score(y_test, y_test_pred)}')"
      ],
      "metadata": {
        "colab": {
          "base_uri": "https://localhost:8080/"
        },
        "id": "Pt19dpXQYvP5",
        "outputId": "c36b04ec-c44f-43b3-fb0c-562be78dfb30"
      },
      "execution_count": null,
      "outputs": [
        {
          "output_type": "stream",
          "name": "stdout",
          "text": [
            "Classifier: KNN Model\n",
            "10-Fold Cross-Validation:\n",
            "Cross-Validation Accuracy on Training Set: 0.783840190816935\n",
            "              precision    recall  f1-score   support\n",
            "\n",
            "    negative       0.53      0.76      0.62      1013\n",
            "    positive       0.92      0.79      0.85      3280\n",
            "\n",
            "    accuracy                           0.78      4293\n",
            "   macro avg       0.72      0.78      0.74      4293\n",
            "weighted avg       0.82      0.78      0.80      4293\n",
            "\n",
            "Accuracy on Test Set: 0.792364990689013\n"
          ]
        }
      ]
    }
  ]
}